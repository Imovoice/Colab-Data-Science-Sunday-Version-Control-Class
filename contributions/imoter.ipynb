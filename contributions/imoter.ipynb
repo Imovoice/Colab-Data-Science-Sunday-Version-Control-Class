{
 "cells": [
  {
   "cell_type": "code",
   "execution_count": 1,
   "id": "14f76610-10e7-4269-a92c-40821d1c084f",
   "metadata": {},
   "outputs": [],
   "source": [
    "def addition (a, b) :\n",
    "    print (a + b)"
   ]
  },
  {
   "cell_type": "code",
   "execution_count": 3,
   "id": "d4ed3fab-aa09-49a5-b004-7f632cc329a3",
   "metadata": {},
   "outputs": [
    {
     "name": "stdout",
     "output_type": "stream",
     "text": [
      "8\n"
     ]
    }
   ],
   "source": [
    "addition (3,5)\n"
   ]
  },
  {
   "cell_type": "code",
   "execution_count": null,
   "id": "79f1b02d-2917-456f-8e5b-a645b4a06d3c",
   "metadata": {},
   "outputs": [],
   "source": []
  }
 ],
 "metadata": {
  "kernelspec": {
   "display_name": "Python [conda env:base] *",
   "language": "python",
   "name": "conda-base-py"
  },
  "language_info": {
   "codemirror_mode": {
    "name": "ipython",
    "version": 3
   },
   "file_extension": ".py",
   "mimetype": "text/x-python",
   "name": "python",
   "nbconvert_exporter": "python",
   "pygments_lexer": "ipython3",
   "version": "3.12.7"
  }
 },
 "nbformat": 4,
 "nbformat_minor": 5
}
